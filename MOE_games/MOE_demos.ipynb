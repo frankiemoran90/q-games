{
 "cells": [
  {
   "cell_type": "code",
   "execution_count": 1,
   "id": "fb764098-0b77-4a1e-9905-ae0d24caf0fe",
   "metadata": {},
   "outputs": [],
   "source": [
    "from qiskit import QuantumCircuit, ClassicalRegister, QuantumRegister\n",
    "from qiskit.visualization import plot_state_city\n",
    "from qiskit.quantum_info import SparsePauliOp\n",
    "from qiskit_aer.primitives import Estimator\n",
    "from qiskit.quantum_info import Statevector\n",
    "from qiskit_aer import AerSimulator\n",
    "from qiskit_ibm_runtime import QiskitRuntimeService, Sampler\n",
    "from qiskit import transpile, QuantumCircuit\n",
    "import numpy as np"
   ]
  },
  {
   "cell_type": "markdown",
   "id": "7af75a0a-edd5-44c2-ba64-e06d9befa32b",
   "metadata": {},
   "source": [
    "## Showing optimal strategies for a 3 player MOE game with $\\pi=1/2$"
   ]
  },
  {
   "cell_type": "code",
   "execution_count": 153,
   "id": "12e5dcac-2d3a-4f59-9e6e-157833b01327",
   "metadata": {},
   "outputs": [],
   "source": [
    "# aersim -- simulates the winning percentage of a game with 1/2 chance in each basis\n",
    "def aersim(qc, qch, n, num_measures):\n",
    "    total0 = 0\n",
    "    backend = AerSimulator()\n",
    "    job = backend.run(qc, shots=n)\n",
    "    result = job.result()\n",
    "    counts = result.get_counts()\n",
    "    print(counts)\n",
    "    if(num_measures == 1):\n",
    "        total0 = counts.get('0', 0)\n",
    "    else:\n",
    "        total0 = counts.get('000', 0) + counts.get('111', 0)\n",
    "    job = backend.run(qch, shots=n)\n",
    "    result = job.result()\n",
    "    counts = result.get_counts()\n",
    "    print(counts)\n",
    "    if(num_measures == 1):\n",
    "        total0 += counts.get('0', 0)\n",
    "    else:\n",
    "        total0 += counts.get('000', 0) + counts.get('111', 0)\n",
    "    \n",
    "    print(f\"Win Percentage: {total0 / (2 * n)}\")"
   ]
  },
  {
   "cell_type": "code",
   "execution_count": 155,
   "id": "c5291a74-194a-436b-b2d1-4059b2a9eb5f",
   "metadata": {},
   "outputs": [
    {
     "name": "stdout",
     "output_type": "stream",
     "text": [
      "Using backend: <IBMBackend('ibm_sherbrooke')>\n"
     ]
    }
   ],
   "source": [
    "# Save account credentials once\n",
    "QiskitRuntimeService.save_account(\n",
    "    channel=\"ibm_cloud\",\n",
    "    token=\"INSTERT TOKEN\",\n",
    "    instance=\"crn:v1:bluemix:public:quantum-computing:us-east:a/847a127bbbd443bda21b2f8eb34fcf05:c89422dd-3ac6-4a78-9014-cd25fa6dfada::\",\n",
    "    overwrite=\"True\"\n",
    ")\n",
    "\n",
    "# load the service\n",
    "service = QiskitRuntimeService(channel=\"ibm_cloud\")\n",
    "\n",
    "\n",
    "# 3. Choose a real QPU backend\n",
    "backend = service.least_busy(simulator=False, operational=True)  # 🔍 finds least pending jobs :contentReference[oaicite:1]{index=1}\n",
    "print(f\"Using backend: {backend}\")"
   ]
  },
  {
   "cell_type": "markdown",
   "id": "1531aaab-f706-42d0-bc27-b13ea8bf4496",
   "metadata": {},
   "source": [
    "### Strategy 1: Unentangled strategy where $|\\psi\\rangle=(\\cos(\\frac{\\pi}{8})|0\\rangle + \\sin(\\frac{\\pi}{8})|1\\rangle) \\otimes |0\\rangle \\otimes |0\\rangle$"
   ]
  },
  {
   "cell_type": "code",
   "execution_count": 141,
   "id": "2a3dfee2-8c21-46cb-a213-c3ad83e960a5",
   "metadata": {},
   "outputs": [],
   "source": [
    "# Computational Basis Measurement \n",
    "qc = QuantumCircuit(3,1)\n",
    "\n",
    "theta = 2 * np.pi / 8  # because RY(θ) gives cos(θ/2)|0⟩ + sin(θ/2)|1⟩\n",
    "qc.ry(theta, 0)\n",
    "# Hadamard Measurement\n",
    "qch = QuantumCircuit(3,1)\n",
    "qch.ry(theta, 0)\n",
    "qch.h(0)\n",
    "qch.h(1)\n",
    "qch.h(2)\n",
    "\n",
    "# Get the statevector\n",
    "state = Statevector.from_instruction(qc)\n",
    "#state.draw('bloch')"
   ]
  },
  {
   "cell_type": "code",
   "execution_count": 142,
   "id": "171109c5-9572-4cbf-9464-956fa7604337",
   "metadata": {},
   "outputs": [
    {
     "data": {
      "image/png": "[encoded data removed]",
      "text/plain": [
       "<Figure size 287.496x367.889 with 1 Axes>"
      ]
     },
     "execution_count": 142,
     "metadata": {},
     "output_type": "execute_result"
    }
   ],
   "source": [
    "qc.measure(0, 0)\n",
    "\n",
    "\n",
    "# Show circuit\n",
    "qc.draw('mpl')"
   ]
  },
  {
   "cell_type": "code",
   "execution_count": 145,
   "id": "6990dc24-5ff3-41c9-9752-84637f69ca3e",
   "metadata": {},
   "outputs": [
    {
     "data": {
      "image/png": "[encoded data removed]",
      "text/plain": [
       "<Figure size 371.107x367.889 with 1 Axes>"
      ]
     },
     "execution_count": 145,
     "metadata": {},
     "output_type": "execute_result"
    }
   ],
   "source": [
    "# Show circuit\n",
    "qch.measure(0, 0)\n",
    "qch.draw('mpl')"
   ]
  },
  {
   "cell_type": "code",
   "execution_count": 146,
   "id": "ab0313b3-ae22-4f08-9f0c-3e1f5dd77a2e",
   "metadata": {},
   "outputs": [
    {
     "name": "stdout",
     "output_type": "stream",
     "text": [
      "Win Percentage: 0.85343025\n"
     ]
    }
   ],
   "source": [
    "aersim(qc, qch, 10000000, 1)"
   ]
  },
  {
   "cell_type": "markdown",
   "id": "075d1478-8174-49f3-b9f6-95ed2c66a22f",
   "metadata": {},
   "source": [
    "## Strategy 2 where $|\\psi\\rangle = \\frac{(|00\\rangle + |11\\rangle)}{\\sqrt{2}} \\otimes |0\\rangle$"
   ]
  },
  {
   "cell_type": "code",
   "execution_count": 134,
   "id": "aa3caf98-b2d9-45a1-9a6f-63daab712e4b",
   "metadata": {},
   "outputs": [
    {
     "data": {
      "text/plain": [
       "<qiskit.circuit.instructionset.InstructionSet at 0x7f81240f5ff0>"
      ]
     },
     "execution_count": 134,
     "metadata": {},
     "output_type": "execute_result"
    }
   ],
   "source": [
    "# Computational Basis Measurement \n",
    "qc2 = QuantumCircuit(3,3)\n",
    "\n",
    "qc2.h(0)\n",
    "qc2.cx(0,1)\n",
    "qc2.measure([0, 1, 2],[0, 1, 2])\n",
    "\n",
    "# Hadamard Measurement\n",
    "qch2 = QuantumCircuit(3,3)\n",
    "qch2.h(0)\n",
    "qch2.cx(0,1)\n",
    "\n",
    "qch2.h(0)\n",
    "qch2.h(1)\n",
    "qch2.h(2)\n",
    "qch2.measure([0, 1, 2],[0, 1, 2])\n"
   ]
  },
  {
   "cell_type": "code",
   "execution_count": 135,
   "id": "f3c092b5-1841-4318-92a5-a3ed6baa07af",
   "metadata": {},
   "outputs": [
    {
     "data": {
      "image/png": "[encoded data removed]",
      "text/plain": [
       "<Figure size 454.719x367.889 with 1 Axes>"
      ]
     },
     "execution_count": 135,
     "metadata": {},
     "output_type": "execute_result"
    }
   ],
   "source": [
    "qc2.draw('mpl')"
   ]
  },
  {
   "cell_type": "code",
   "execution_count": 136,
   "id": "f45fb779-4c35-4fcb-a3cb-14984db29440",
   "metadata": {},
   "outputs": [
    {
     "data": {
      "image/png": "[encoded data removed]",
      "text/plain": [
       "<Figure size 538.33x367.889 with 1 Axes>"
      ]
     },
     "execution_count": 136,
     "metadata": {},
     "output_type": "execute_result"
    }
   ],
   "source": [
    "qch2.draw('mpl')"
   ]
  },
  {
   "cell_type": "code",
   "execution_count": 109,
   "id": "7c4ded91-ac40-4fc5-b1eb-b12d50bc69b1",
   "metadata": {},
   "outputs": [
    {
     "name": "stdout",
     "output_type": "stream",
     "text": [
      "Win Percentage: 0.49805\n"
     ]
    }
   ],
   "source": [
    "aersim(qc2, qch2, 100000, 3)"
   ]
  },
  {
   "cell_type": "markdown",
   "id": "27632d6c-184c-453a-be79-29db3fcf3bdc",
   "metadata": {},
   "source": [
    "## Strategy 3 where $|\\psi\\rangle = |GHZ\\rangle$"
   ]
  },
  {
   "cell_type": "code",
   "execution_count": 147,
   "id": "67234eb5-21ca-4d3a-b997-fdb9666b0638",
   "metadata": {},
   "outputs": [
    {
     "data": {
      "text/plain": [
       "<qiskit.circuit.instructionset.InstructionSet at 0x7f81243cfb80>"
      ]
     },
     "execution_count": 147,
     "metadata": {},
     "output_type": "execute_result"
    }
   ],
   "source": [
    "# Computational Basis Measurement \n",
    "qc3 = QuantumCircuit(3,3)\n",
    "qc3.h(0)\n",
    "qc3.cx(0,1)\n",
    "qc3.cx(1,2)\n",
    "qc3.measure([0, 1, 2],[0, 1, 2])\n",
    "# Hadamard Measurement\n",
    "qch3 = QuantumCircuit(3,3)\n",
    "qch3.h(0)\n",
    "qch3.cx(0,1)\n",
    "qch3.cx(1,2)\n",
    "qch3.h(0)\n",
    "qch3.h(1)\n",
    "qch3.h(2)\n",
    "qch3.measure([0, 1, 2],[0, 1, 2])\n"
   ]
  },
  {
   "cell_type": "code",
   "execution_count": 148,
   "id": "d3360906-136f-4337-88ed-2c515b927f67",
   "metadata": {},
   "outputs": [
    {
     "data": {
      "image/png": "[encoded data removed]",
      "text/plain": [
       "<Figure size 621.941x367.889 with 1 Axes>"
      ]
     },
     "execution_count": 148,
     "metadata": {},
     "output_type": "execute_result"
    }
   ],
   "source": [
    "\n",
    "qc3.draw('mpl')"
   ]
  },
  {
   "cell_type": "code",
   "execution_count": 149,
   "id": "dc8752c0-412c-48d8-bb3d-3b8084d75a78",
   "metadata": {},
   "outputs": [
    {
     "data": {
      "image/png": "[encoded data removed]",
      "text/plain": [
       "<Figure size 705.552x367.889 with 1 Axes>"
      ]
     },
     "execution_count": 149,
     "metadata": {},
     "output_type": "execute_result"
    }
   ],
   "source": [
    "qch3.draw('mpl')"
   ]
  },
  {
   "cell_type": "code",
   "execution_count": 154,
   "id": "53f72ee7-6af3-4804-a80c-ab1c16d193a4",
   "metadata": {},
   "outputs": [
    {
     "name": "stdout",
     "output_type": "stream",
     "text": [
      "{'111': 49719, '000': 50281}\n",
      "{'101': 25099, '110': 25139, '000': 24826, '011': 24936}\n",
      "Win Percentage: 0.62413\n"
     ]
    }
   ],
   "source": [
    "aersim(qc3, qch3, 100000, 3)"
   ]
  },
  {
   "cell_type": "code",
   "execution_count": 166,
   "id": "315ec2ed-3756-4ee0-9c41-a1c50b04b3ff",
   "metadata": {},
   "outputs": [
    {
     "name": "stdout",
     "output_type": "stream",
     "text": [
      "Using backend: <IBMBackend('ibm_brisbane')>\n"
     ]
    }
   ],
   "source": [
    "# Save account credentials once\n",
    "QiskitRuntimeService.save_account(\n",
    "    channel=\"ibm_cloud\",\n",
    "    token=\"hbayn1Pm32HKh9Nw_mLpbkmtscO8YAaLKHTaC2ELREoy\",\n",
    "    instance=\"crn:v1:bluemix:public:quantum-computing:us-east:a/847a127bbbd443bda21b2f8eb34fcf05:c89422dd-3ac6-4a78-9014-cd25fa6dfada::\",\n",
    "    overwrite=\"True\"\n",
    ")\n",
    "\n",
    "# load the service\n",
    "service = QiskitRuntimeService(channel=\"ibm_cloud\")\n",
    "\n",
    "\n",
    "# 3. Choose a real QPU backend\n",
    "backend = service.least_busy(simulator=False, operational=True)  # 🔍 finds least pending jobs :contentReference[oaicite:1]{index=1}\n",
    "print(f\"Using backend: {backend}\")\n",
    "\n",
    "num_samples = 5000"
   ]
  },
  {
   "cell_type": "code",
   "execution_count": 167,
   "id": "e7d91639-c900-4818-a1fc-c4c14a4def26",
   "metadata": {},
   "outputs": [
    {
     "name": "stdout",
     "output_type": "stream",
     "text": [
      "Combined counts: {'0': 4241, '1': 759}\n"
     ]
    }
   ],
   "source": [
    "qc_t = transpile(\n",
    "    qc,\n",
    "    backend=backend,\n",
    "    optimization_level=3,\n",
    "    scheduling_method=\"alap\",      \n",
    "    routing_method=\"sabre\"          \n",
    ")\n",
    "\n",
    "# 5. Run on real hardware using Sampler\n",
    "sampler = Sampler(backend)          \n",
    "sampler.options.default_shots = num_samples\n",
    "\n",
    "job = sampler.run([qc_t])\n",
    "res = job.result()[0]\n",
    "counts = res.join_data().get_counts()\n",
    "print(\"Combined counts:\", counts)"
   ]
  },
  {
   "cell_type": "code",
   "execution_count": 168,
   "id": "4f31a710-46d4-4a57-99e4-f6790dc6f42a",
   "metadata": {},
   "outputs": [
    {
     "name": "stdout",
     "output_type": "stream",
     "text": [
      "Combined counts: {'0': 4229, '1': 771}\n"
     ]
    }
   ],
   "source": [
    "qch_t = transpile(\n",
    "    qch,\n",
    "    backend=backend,\n",
    "    optimization_level=3,\n",
    "    scheduling_method=\"alap\",      \n",
    "    routing_method=\"sabre\"          \n",
    ")\n",
    "\n",
    "# 5. Run on real hardware using Sampler\n",
    "sampler = Sampler(backend)          \n",
    "sampler.options.default_shots = num_samples\n",
    "\n",
    "job = sampler.run([qch_t])\n",
    "res = job.result()[0]\n",
    "counts = res.join_data().get_counts()\n",
    "print(\"Combined counts:\", counts)"
   ]
  },
  {
   "cell_type": "code",
   "execution_count": 169,
   "id": "5139ed8d-2321-42a8-b401-2bc5514aa6cd",
   "metadata": {},
   "outputs": [
    {
     "name": "stdout",
     "output_type": "stream",
     "text": [
      "Combined counts: {'011': 2452, '000': 2366, '001': 46, '010': 102, '111': 20, '100': 12, '110': 2}\n"
     ]
    }
   ],
   "source": [
    "qc2_t = transpile(\n",
    "    qc2,\n",
    "    backend=backend,\n",
    "    optimization_level=3,\n",
    "    scheduling_method=\"alap\",      \n",
    "    routing_method=\"sabre\"          \n",
    ")\n",
    "\n",
    "# 5. Run on real hardware using Sampler\n",
    "sampler = Sampler(backend)          \n",
    "sampler.options.default_shots = num_samples\n",
    "\n",
    "job = sampler.run([qc2_t])\n",
    "res = job.result()[0]\n",
    "counts = res.join_data().get_counts()\n",
    "print(\"Combined counts:\", counts)"
   ]
  },
  {
   "cell_type": "code",
   "execution_count": 170,
   "id": "6024e411-ba71-43b8-85fc-63ff00c2ee26",
   "metadata": {},
   "outputs": [
    {
     "name": "stdout",
     "output_type": "stream",
     "text": [
      "Combined counts: {'000': 2369, '011': 2453, '010': 89, '001': 55, '100': 14, '111': 19, '110': 1}\n"
     ]
    }
   ],
   "source": [
    "qch2_t = transpile(\n",
    "    qc2,\n",
    "    backend=backend,\n",
    "    optimization_level=3,\n",
    "    scheduling_method=\"alap\",      \n",
    "    routing_method=\"sabre\"          \n",
    ")\n",
    "\n",
    "# 5. Run on real hardware using Sampler\n",
    "sampler = Sampler(backend)          \n",
    "sampler.options.default_shots = num_samples\n",
    "\n",
    "job = sampler.run([qch2_t])\n",
    "res = job.result()[0]\n",
    "counts = res.join_data().get_counts()\n",
    "print(\"Combined counts:\", counts)"
   ]
  },
  {
   "cell_type": "code",
   "execution_count": 171,
   "id": "b0a29222-0050-4384-8801-442542bf47e1",
   "metadata": {},
   "outputs": [
    {
     "name": "stdout",
     "output_type": "stream",
     "text": [
      "Combined counts: {'111': 2452, '000': 2325, '110': 49, '011': 25, '001': 50, '101': 16, '100': 65, '010': 18}\n"
     ]
    }
   ],
   "source": [
    "qc3_t = transpile(\n",
    "    qc3,\n",
    "    backend=backend,\n",
    "    optimization_level=3,\n",
    "    scheduling_method=\"alap\",      \n",
    "    routing_method=\"sabre\"          \n",
    ")\n",
    "\n",
    "# 5. Run on real hardware using Sampler\n",
    "sampler = Sampler(backend)          \n",
    "sampler.options.default_shots = num_samples\n",
    "\n",
    "job = sampler.run([qc3_t])\n",
    "res = job.result()[0]\n",
    "counts = res.join_data().get_counts()\n",
    "print(\"Combined counts:\", counts)"
   ]
  },
  {
   "cell_type": "code",
   "execution_count": 172,
   "id": "68105266-3acb-4df4-a5a4-546e88aeed96",
   "metadata": {},
   "outputs": [
    {
     "name": "stdout",
     "output_type": "stream",
     "text": [
      "Combined counts: {'101': 1236, '110': 1281, '000': 1214, '011': 1077, '010': 62, '111': 44, '100': 45, '001': 41}\n"
     ]
    }
   ],
   "source": [
    "qch3_t = transpile(\n",
    "    qch3,\n",
    "    backend=backend,\n",
    "    optimization_level=3,\n",
    "    scheduling_method=\"alap\",      \n",
    "    routing_method=\"sabre\"          \n",
    ")\n",
    "\n",
    "# 5. Run on real hardware using Sampler\n",
    "sampler = Sampler(backend)          \n",
    "sampler.options.default_shots = num_samples\n",
    "\n",
    "job = sampler.run([qch3_t])\n",
    "res = job.result()[0]\n",
    "counts = res.join_data().get_counts()\n",
    "print(\"Combined counts:\", counts)"
   ]
  },
  {
   "cell_type": "code",
   "execution_count": null,
   "id": "ee2b89b9-9af7-431f-bc27-2b0f29a29321",
   "metadata": {},
   "outputs": [],
   "source": []
  }
 ],
 "metadata": {
  "kernelspec": {
   "display_name": "Python 3 (ipykernel)",
   "language": "python",
   "name": "python3"
  },
  "language_info": {
   "codemirror_mode": {
    "name": "ipython",
    "version": 3
   },
   "file_extension": ".py",
   "mimetype": "text/x-python",
   "name": "python",
   "nbconvert_exporter": "python",
   "pygments_lexer": "ipython3",
   "version": "3.12.3"
  }
 },
 "nbformat": 4,
 "nbformat_minor": 5
}
